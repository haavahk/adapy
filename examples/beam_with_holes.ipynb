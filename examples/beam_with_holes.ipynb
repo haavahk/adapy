{
 "cells": [
  {
   "cell_type": "markdown",
   "metadata": {},
   "source": [
    "# Beam with holes\n",
    "\n",
    "The following example demonstrates how you can add penetrations to a beam using various primitives and finally export it to an IFC file"
   ]
  },
  {
   "cell_type": "code",
   "execution_count": null,
   "metadata": {},
   "outputs": [],
   "source": [
    "import numpy as np\n",
    "from ada import Assembly, Beam, Part, PrimBox, PrimCyl, PrimExtrude"
   ]
  },
  {
   "cell_type": "markdown",
   "metadata": {},
   "source": [
    "**The basic beam setup**\n",
    "\n",
    "The following code creates and assembly with a specific hierarchy\n",
    "\n",
    "    MyAssembly (IfSite)\n",
    "        MyPart (IfcBuildingStorey)\n",
    "            MyBeam (IfcBeam)"
   ]
  },
  {
   "cell_type": "code",
   "execution_count": null,
   "metadata": {},
   "outputs": [],
   "source": [
    "bm = Beam(\"MyBeam\", (0, 0, 0), (1.5, 0, 0), \"IPE400\")\n",
    "a = Assembly(\"MyAssembly\") / [Part(\"MyPart\") / bm]\n",
    "a"
   ]
  },
  {
   "cell_type": "markdown",
   "metadata": {},
   "source": [
    "**Polygon Extrusions**"
   ]
  },
  {
   "cell_type": "code",
   "execution_count": null,
   "metadata": {},
   "outputs": [],
   "source": [
    "h = 0.2\n",
    "r = 0.02\n",
    "\n",
    "normal = [0, 1, 0]\n",
    "xdir = [-1, 0, 0]\n",
    "\n",
    "\n",
    "origin = np.array([0.2, -0.1, -0.1])\n",
    "points = [(0, 0), (0.1, 0), (0.05, 0.1)]\n",
    "\n",
    "poly1 = bm.add_penetration(PrimExtrude(\"Poly1\", points, h, normal, origin, xdir))\n",
    "bm"
   ]
  },
  {
   "cell_type": "code",
   "execution_count": null,
   "metadata": {},
   "outputs": [],
   "source": [
    "origin += np.array([0.2, 0, 0])\n",
    "points = [(0, 0, r), (0.1, 0, r), (0.05, 0.1, r)]\n",
    "\n",
    "poly2 = bm.add_penetration(PrimExtrude(\"Poly2\", points, h, normal, origin, xdir))\n",
    "bm"
   ]
  },
  {
   "cell_type": "code",
   "execution_count": null,
   "metadata": {},
   "outputs": [],
   "source": [
    "origin += np.array([0.2, 0, 0])\n",
    "points = [(0, 0, r), (0.1, 0, r), (0.1, 0.2, r), (0.0, 0.2, r)]\n",
    "\n",
    "poly3 = bm.add_penetration(PrimExtrude(\"Poly3\", points, h, normal, origin, xdir))\n",
    "bm"
   ]
  },
  {
   "cell_type": "code",
   "execution_count": null,
   "metadata": {},
   "outputs": [],
   "source": [
    "# Cylinder Extrude\n",
    "x = origin[0] + 0.2\n",
    "\n",
    "cyl = bm.add_penetration(PrimCyl(\"cylinder\", (x, -0.1, 0), (x, 0.1, 0), 0.1))\n",
    "bm"
   ]
  },
  {
   "cell_type": "code",
   "execution_count": null,
   "metadata": {},
   "outputs": [],
   "source": [
    "# Box Extrude\n",
    "x += 0.2\n",
    "\n",
    "box = bm.add_penetration(PrimBox(\"box\", (x, -0.1, -0.1), (x + 0.2, 0.1, 0.1)))\n",
    "bm"
   ]
  },
  {
   "cell_type": "code",
   "execution_count": null,
   "metadata": {},
   "outputs": [],
   "source": [
    "a.to_ifc('MyBeamWithHoles.ifc')"
   ]
  },
  {
   "cell_type": "markdown",
   "metadata": {},
   "source": [
    "**Add the primitives used for cutting as solid shapes to your model**"
   ]
  },
  {
   "cell_type": "code",
   "execution_count": null,
   "metadata": {},
   "outputs": [],
   "source": [
    "a / (Part('Shapes') / [poly1, poly2, poly3, cyl, box])\n",
    "a"
   ]
  },
  {
   "cell_type": "code",
   "execution_count": null,
   "metadata": {},
   "outputs": [],
   "source": [
    "a.to_ifc('MyBeamWithHoles_and_Primitives.ifc')"
   ]
  }
 ],
 "metadata": {
  "kernelspec": {
   "display_name": "Python 3",
   "language": "python",
   "name": "python3"
  },
  "language_info": {
   "codemirror_mode": {
    "name": "ipython",
    "version": 3
   },
   "file_extension": ".py",
   "mimetype": "text/x-python",
   "name": "python",
   "nbconvert_exporter": "python",
   "pygments_lexer": "ipython3",
   "version": "3.8.5"
  }
 },
 "nbformat": 4,
 "nbformat_minor": 1
}