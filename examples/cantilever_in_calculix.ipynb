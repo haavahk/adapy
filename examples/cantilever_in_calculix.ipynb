{
 "cells": [
  {
   "cell_type": "markdown",
   "metadata": {},
   "source": [
    "# Cantilever Beam analyzed using Calculix\n",
    "\n",
    "The following example demonstrates how you can use `ada` to quickly build, visualize, simulate and postprocess FEM analysis."
   ]
  },
  {
   "cell_type": "code",
   "execution_count": null,
   "metadata": {},
   "outputs": [],
   "source": [
    "from ada.param_models.fem_models import beam_ex1"
   ]
  },
  {
   "cell_type": "markdown",
   "metadata": {},
   "source": [
    "**Import an Assembly object from a function**\n",
    "\n",
    "The function `beam_ex1()` builds and returns an `Assembly` containing a beam with a series of arbitrary cutouts. For more information on how the FEM model was created, you can look [here](https://github.com/Krande/adapy/blob/87f5356e519e6e707bfcde771e99e78225e27aff/src/ada/param_models/fem_models.py#L9-L59).\n",
    "\n",
    "The `Assembly` method `to_ifc()` creates an ifc file that can be imported in most BIM software. My software of choice is the open source alternative using [blender](https://www.blender.org/) and the [blenderbim](https://blenderbim.org/) addon."
   ]
  },
  {
   "cell_type": "code",
   "execution_count": null,
   "metadata": {
    "pycharm": {
     "name": "#%%\n"
    },
    "scrolled": false
   },
   "outputs": [],
   "source": [
    "a = beam_ex1()\n",
    "a.to_ifc('MyCantilever.ifc')\n",
    "a"
   ]
  },
  {
   "cell_type": "markdown",
   "metadata": {},
   "source": [
    "**Run a FEM analysis using Calculix**\n",
    "\n",
    "The Assembly method `to_fem` creates an analysis directory called \"MyCantilever_calculix\" inside the `scratch` directory. By passing in `execute=True` calculix will automatically start the analysis once the input files are created"
   ]
  },
  {
   "cell_type": "code",
   "execution_count": null,
   "metadata": {
    "pycharm": {
     "name": "#%%\n"
    }
   },
   "outputs": [],
   "source": [
    "a.to_fem(\"MyCantilever_calculix\", \"calculix\", overwrite=True, execute=True)"
   ]
  },
  {
   "cell_type": "markdown",
   "metadata": {},
   "source": [
    "**Read the analysis results**\n",
    "\n",
    "The analysis result file (frd) was automatically converted to VTU using the [ccx2paraview](https://github.com/calculix/ccx2paraview) package. \n",
    "\n",
    "By using meshio to read the VTU file, you can quite easily access the result data such as Von Mises stress 'S', displacements 'U'."
   ]
  },
  {
   "cell_type": "code",
   "execution_count": null,
   "metadata": {},
   "outputs": [],
   "source": [
    "from ada.config import Settings\n",
    "import meshio\n",
    "\n",
    "vtu = Settings.scratch_dir / \"MyCantilever_calculix\" / \"MyCantilever_calculix.vtu\"\n",
    "mesh = meshio.read(vtu)\n",
    "\n",
    "# Von Mises stresses and displacement at a point @ index=0\n",
    "print(mesh.point_data['S'][0])\n",
    "print(mesh.point_data['U'][0])"
   ]
  }
 ],
 "metadata": {
  "kernelspec": {
   "display_name": "Python 3",
   "language": "python",
   "name": "python3"
  },
  "language_info": {
   "codemirror_mode": {
    "name": "ipython",
    "version": 3
   },
   "file_extension": ".py",
   "mimetype": "text/x-python",
   "name": "python",
   "nbconvert_exporter": "python",
   "pygments_lexer": "ipython3",
   "version": "3.8.5"
  }
 },
 "nbformat": 4,
 "nbformat_minor": 1
}